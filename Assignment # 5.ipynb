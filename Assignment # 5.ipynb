{
 "cells": [
  {
   "cell_type": "code",
   "execution_count": 35,
   "metadata": {},
   "outputs": [
    {
     "name": "stdout",
     "output_type": "stream",
     "text": [
      "Enter the value to find its factorial: 5\n",
      "120\n"
     ]
    }
   ],
   "source": [
    "# 1. Write a Python function to calculate the factorial of a number (a non-negative integer). The function accepts the number as an argument.\n",
    "\n",
    "def factorial(num):\n",
    "    if num == 0:\n",
    "        return 1\n",
    "    else:\n",
    "        return num * factorial(num-1)\n",
    "    \n",
    "num = int(input(\"Enter the value to find its factorial: \"))\n",
    "print(factorial(num))"
   ]
  },
  {
   "cell_type": "code",
   "execution_count": 33,
   "metadata": {},
   "outputs": [
    {
     "name": "stdout",
     "output_type": "stream",
     "text": [
      "Sentence is:  My Favorite Teacher is Sir. Muhammad Ali Mughal\n",
      "Number of Upper Case Letters:  7\n",
      "Number of Lower Case Letters:  32\n"
     ]
    }
   ],
   "source": [
    "# 2. Write a Python function that accepts a string and calculate the number of upper case letters and lower case letters.\n",
    "\n",
    "def upper_lower_test(s):\n",
    "    k = {\"UPPERCASE\":0, \"LOWERCASE\":0}\n",
    "    for j in s:\n",
    "        if j.isupper():\n",
    "            k[\"UPPERCASE\"]+=1\n",
    "        elif j.islower():\n",
    "            k[\"LOWERCASE\"]+=1\n",
    "        else:\n",
    "            pass\n",
    "    print(\"Sentence is: \", s)\n",
    "    print(\"Number of Upper Case Letters: \", k[\"UPPERCASE\"])\n",
    "    print(\"Number of Lower Case Letters: \", k[\"LOWERCASE\"])\n",
    "\n",
    "upper_lower_test('My Favorite Teacher is Sir. Muhammad Ali Mughal')"
   ]
  },
  {
   "cell_type": "code",
   "execution_count": 15,
   "metadata": {},
   "outputs": [
    {
     "name": "stdout",
     "output_type": "stream",
     "text": [
      "34 64 60 98 "
     ]
    }
   ],
   "source": [
    "# 3. Write a Python function to print the even numbers from a given list\n",
    "\n",
    "def mylist():\n",
    "    list1 = [34, 64, 55, 60, 77, 98]\n",
    "    for num in list1:\n",
    "        if num % 2 == 0:\n",
    "            print(num, end = \" \")\n",
    "\n",
    "mylist()"
   ]
  },
  {
   "cell_type": "code",
   "execution_count": 27,
   "metadata": {},
   "outputs": [
    {
     "name": "stdout",
     "output_type": "stream",
     "text": [
      "True\n",
      "False\n"
     ]
    }
   ],
   "source": [
    "# 4. Write a Python function that checks whether a passed string is palindrome or not. \n",
    "# Note: A palindrome is a word, phrase, or sequence that reads the same backward as forward, e.g., madam\n",
    "\n",
    "def palindrome(string):\n",
    "    left_side = 0\n",
    "    right_side = len(string) - 1\n",
    "    \n",
    "    while right_side >= left_side:\n",
    "        if not string[left_side] == string[right_side]:\n",
    "            return False\n",
    "        left_side += 1\n",
    "        right_side -= 1\n",
    "    return True\n",
    "\n",
    "print(palindrome('civic'))\n",
    "print(palindrome('side'))"
   ]
  },
  {
   "cell_type": "code",
   "execution_count": 21,
   "metadata": {},
   "outputs": [
    {
     "name": "stdout",
     "output_type": "stream",
     "text": [
      "False\n",
      "True\n"
     ]
    }
   ],
   "source": [
    "# 5. Write a Python function that takes a number as a parameter and check the number is prime or not.\n",
    "\n",
    "def prime(x):\n",
    "    if (x == 1):\n",
    "        return False\n",
    "    elif (x == 2):\n",
    "        return True\n",
    "    else:\n",
    "        for c in range(2,x):\n",
    "            if(x % c == 0):\n",
    "                return False\n",
    "        return True\n",
    "\n",
    "print(prime(9))\n",
    "print(prime(2))"
   ]
  },
  {
   "cell_type": "code",
   "execution_count": 6,
   "metadata": {},
   "outputs": [
    {
     "name": "stdout",
     "output_type": "stream",
     "text": [
      "Customer bought Bag\n",
      "Customer bought Clothes\n",
      "Customer bought Shoes\n",
      "Customer bought Jewellery\n"
     ]
    }
   ],
   "source": [
    "# 6. Suppose a customer is shopping in a market and you need to print all the items which user bought from market. \n",
    "# Write a function which accepts the multiple arguments of user shopping list and print all the items which user bought from market. \n",
    "# (Hint: Arbitrary Argument concept can make this task ease)\n",
    "\n",
    "def customer(*item):\n",
    "    for items in item:\n",
    "        print(\"Customer bought\", items)\n",
    "\n",
    "customer(\"Bag\", \"Clothes\", \"Shoes\", \"Jewellery\")"
   ]
  },
  {
   "cell_type": "code",
   "execution_count": null,
   "metadata": {},
   "outputs": [],
   "source": []
  }
 ],
 "metadata": {
  "kernelspec": {
   "display_name": "Python 3",
   "language": "python",
   "name": "python3"
  },
  "language_info": {
   "codemirror_mode": {
    "name": "ipython",
    "version": 3
   },
   "file_extension": ".py",
   "mimetype": "text/x-python",
   "name": "python",
   "nbconvert_exporter": "python",
   "pygments_lexer": "ipython3",
   "version": "3.7.4"
  }
 },
 "nbformat": 4,
 "nbformat_minor": 2
}
