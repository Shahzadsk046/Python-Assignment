{
 "cells": [
  {
   "cell_type": "code",
   "execution_count": 9,
   "metadata": {},
   "outputs": [
    {
     "name": "stdout",
     "output_type": "stream",
     "text": [
      "Enter First Number: 88\n",
      "Enter Second Number: 8\n",
      "Enter arithmetic Operator: /\n",
      "Sum of Answer is:  11.0\n"
     ]
    }
   ],
   "source": [
    "# 1. Make a calculator using Python with addition, substraction, multiplication, division and power.\n",
    "a = int(input (\"Enter First Number: \"))\n",
    "b = int(input (\"Enter Second Number: \"))\n",
    "operand  = input (\"Enter arithmetic Operator: \")\n",
    "if operand == '+':\n",
    "    c =  a + b\n",
    "    print('Sum of Answer is: ', c)\n",
    "elif operand == '-':\n",
    "    c =  a - b\n",
    "    print('Sum of Answer is: ', c)\n",
    "elif operand == '*':\n",
    "    c =  a * b\n",
    "    print('Sum of Answer is: ', c)\n",
    "elif operand == '/':\n",
    "    c =  a / b\n",
    "    print('Sum of Answer is: ', c)\n",
    "elif operand == '%':\n",
    "    c =  a % b\n",
    "    print('Sum of Answer is: ', c)\n",
    "else:\n",
    "    print(\"Incorrect Operand\")"
   ]
  },
  {
   "cell_type": "code",
   "execution_count": 31,
   "metadata": {},
   "outputs": [
    {
     "name": "stdout",
     "output_type": "stream",
     "text": [
      "[11, 0, 45, 66]\n"
     ]
    }
   ],
   "source": [
    "# 2. Write a program to check if there is any numeric value in list using for loop\n",
    "list1 = [11, 'karachi', 0, 45, 66, 'isl']\n",
    "list2 = []\n",
    "for i in range(len(list1)):\n",
    "    for j in range(10000):\n",
    "        if j == list1[i]:\n",
    "            list2.append(list1[i])\n",
    "print(list2)"
   ]
  },
  {
   "cell_type": "code",
   "execution_count": 29,
   "metadata": {},
   "outputs": [
    {
     "name": "stdout",
     "output_type": "stream",
     "text": [
      "{'first': 'Shehzad', 'Last': 'Khan', 'Address': 'Karachi', 'language': 'Urdu'}\n"
     ]
    }
   ],
   "source": [
    "# 3. Write a Python script to add a key to dictionary\n",
    "customer  = {\n",
    "    \"first\": \"Shehzad\",\n",
    "    \"Last\": \"Khan\",\n",
    "    \"Address\": \"Karachi\"\n",
    "}\n",
    "customer[\"language\"] = \"Urdu\"\n",
    "print(customer)"
   ]
  },
  {
   "cell_type": "code",
   "execution_count": 20,
   "metadata": {},
   "outputs": [
    {
     "name": "stdout",
     "output_type": "stream",
     "text": [
      "144\n"
     ]
    }
   ],
   "source": [
    "# 4. Write a Python program to sum all the numeric items in a dictionary\n",
    "numbers = {12,23,32,43,34}\n",
    "print(sum(numbers))"
   ]
  },
  {
   "cell_type": "code",
   "execution_count": 36,
   "metadata": {},
   "outputs": [
    {
     "data": {
      "text/plain": [
       "{1, 4, 5}"
      ]
     },
     "execution_count": 36,
     "metadata": {},
     "output_type": "execute_result"
    }
   ],
   "source": [
    "# 5. Write a program to identify duplicate values from list\n",
    "cd=[1,2,3,4,4,5,5,6,1]\n",
    "set([x for x in cd if cd.count(x) > 1])"
   ]
  },
  {
   "cell_type": "code",
   "execution_count": 37,
   "metadata": {},
   "outputs": [
    {
     "name": "stdout",
     "output_type": "stream",
     "text": [
      "{'z': 10, 'l': 50, 'c': 74, 'm': 12, 'f': 44, 'g': 19}\n",
      "True\n"
     ]
    }
   ],
   "source": [
    "# 6. Write a Python script to check if a given key already exists in a dictionary\n",
    "x = {'z': 10, 'l': 50, 'c': 74, 'm': 12, 'f': 44, 'g': 19}\n",
    "\n",
    "print(x)\n",
    "\n",
    "if 'z' in x.keys():\n",
    "    print(\"True\")\n",
    "else:\n",
    "    print(\"False\")"
   ]
  },
  {
   "cell_type": "code",
   "execution_count": null,
   "metadata": {},
   "outputs": [],
   "source": []
  }
 ],
 "metadata": {
  "kernelspec": {
   "display_name": "Python 3",
   "language": "python",
   "name": "python3"
  },
  "language_info": {
   "codemirror_mode": {
    "name": "ipython",
    "version": 3
   },
   "file_extension": ".py",
   "mimetype": "text/x-python",
   "name": "python",
   "nbconvert_exporter": "python",
   "pygments_lexer": "ipython3",
   "version": "3.7.4"
  }
 },
 "nbformat": 4,
 "nbformat_minor": 2
}
