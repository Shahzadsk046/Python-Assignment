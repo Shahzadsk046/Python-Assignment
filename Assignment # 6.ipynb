{
 "cells": [
  {
   "cell_type": "markdown",
   "metadata": {},
   "source": [
    "# Assignment # 6"
   ]
  },
  {
   "cell_type": "markdown",
   "metadata": {},
   "source": [
    "## Question No. 1"
   ]
  },
  {
   "cell_type": "markdown",
   "metadata": {},
   "source": [
    "### Define Object Oriented Programming Language?"
   ]
  },
  {
   "cell_type": "markdown",
   "metadata": {},
   "source": [
    "Object-oriented programming (OOP) is a programming paradigm that is based on the concept of \"objects\", which can contain data, in the form of fields (often known as attributes or properties), and code, in the form of procedures (often known as methods). A feature of objects is an object's procedures that can access and often modify the data fields of the object with which they are associated (objects have a notion of \"this\" or \"self\"). In OOP, computer programs are designed by making them out of objects that interact with one another. OOP languages are diverse, but the most popular ones are class-based, meaning that objects are instances of classes, which also determine their types."
   ]
  },
  {
   "cell_type": "markdown",
   "metadata": {},
   "source": [
    "## Question No. 2"
   ]
  },
  {
   "cell_type": "markdown",
   "metadata": {},
   "source": [
    "### List down the Benefits of OOP?"
   ]
  },
  {
   "cell_type": "markdown",
   "metadata": {},
   "source": [
    "Benefits of OOP are listed below:\n",
    "1. Re-usability\n",
    "2. Data Redundancy\n",
    "3. Code Maintenance\n",
    "4. Security\n",
    "5. Design Benefits\n",
    "6. Better Productivity\n",
    "7. Easy Troubleshooting\n",
    "8. Polymorphism Flexibility\n",
    "9. Problem Solving"
   ]
  },
  {
   "cell_type": "markdown",
   "metadata": {},
   "source": [
    "## Question No. 3"
   ]
  },
  {
   "cell_type": "markdown",
   "metadata": {},
   "source": [
    "### Differentiate between function and method?"
   ]
  },
  {
   "cell_type": "markdown",
   "metadata": {},
   "source": [
    "#### Function:\n",
    "A function is a piece of code that is called by name. It can be passed data to operate on (i.e. the parameters) and can optionally return data (the return value). All data that is passed to a function is explicitly passed.\n",
    "\n",
    "#### Method:\n",
    "A method is a piece of code that is called by a name that is associated with an object/classes. In most respects it is identical to a function except for two key differences:\n",
    "\n",
    "1. A method is implicitly passed the object on which it was called.\n",
    "2. A method is able to operate on data that is contained within the class (remembering that an object is an instance of a class the class is the definition, the object is an instance of that data)."
   ]
  },
  {
   "cell_type": "markdown",
   "metadata": {},
   "source": [
    "## Question No. 4"
   ]
  },
  {
   "cell_type": "markdown",
   "metadata": {},
   "source": [
    "### Define the following terms:\n",
    "#### 1. Class\n",
    "#### 2. Object\n",
    "#### 3. Attribute\n",
    "#### 4. Behavior"
   ]
  },
  {
   "cell_type": "markdown",
   "metadata": {},
   "source": [
    "#### 1. Class:\n",
    "In object-oriented programming, a class is a blueprint for creating objects (a particular data structure), providing initial values for state (member variables or attributes), and implementations of behavior (member functions or methods).\n",
    "\n",
    "The user-defined objects are created using the class keyword. The class is a blueprint that defines a nature of a future object. An instance is a specific object created from a particular class. Classes are used to create and manage new objects and support inheritance—a key ingredient in object-oriented programming and a mechanism of reusing code.\n",
    "\n",
    "#### 2. Object:\n",
    "An object, in object-oriented programming (OOP), is an abstract data type created by a developer. It can include multiple properties and methods and may even contain other objects. In most programming languages, objects are defined as classes.\n",
    "\n",
    "Objects provide a structured approach to programming. By defining a dataset as a custom object, a developer can easily create multiple similar objects and modify existing objects within a program. Additionally, objects provide \"encapsulation,\" meaning the data within an object is protected from being modified or destroyed by other functions or methods unless explicitly allowed.\n",
    "\n",
    "#### 3. Attribute:\n",
    "In Object-oriented programming(OOP), classes and objects have attributes. Attributes are data stored inside a class or instance and represent the state or quality of the class or instance. In short, attributes store information about the instance. Also, attributes should not be confused with class functions also known as methods. One can think of attributes as noun or adjective, while methods are the verb of the class.\n",
    "\n",
    "#### 4. Behavior:\n",
    "The behavior of an object is defined by its methods, which are the functions and subroutines defined within the object class. Without class methods, a class would simply be a structure."
   ]
  },
  {
   "cell_type": "markdown",
   "metadata": {},
   "source": [
    "## Question No. 5"
   ]
  },
  {
   "cell_type": "markdown",
   "metadata": {},
   "source": [
    "### Write a code in python in which create a class named it Car which have 5 attributes such like (model, color and name etc.) and 3 methods. And create 5 object instance from that class."
   ]
  },
  {
   "cell_type": "code",
   "execution_count": 1,
   "metadata": {},
   "outputs": [
    {
     "name": "stdout",
     "output_type": "stream",
     "text": [
      "First Car Details:-\n",
      "Name:      Audi\n",
      "Model:     A6 2.0 TFSI \t old Model\n",
      "Color:     Black \t old Color\n",
      "Engine:    1984cc \t old Engine\n",
      "Fuel Type: Petrol\n",
      "\n",
      "\n",
      "\t   A3 35 TFSI \t\t New Model\n",
      "\t   1395cc \t\t New Engine\n",
      "\t   Blue \t\t New Color\n",
      "\n",
      "\n",
      "Second Car Details:-\n",
      "Name:      Suzuki\n",
      "Model:     Cultus VXR \t old Model\n",
      "Color:     Cerulean Blue old Color\n",
      "Engine:    998cc \t old Engine\n",
      "Fuel Type: Petrol\n",
      "\n",
      "\n",
      "\t   Wagon R \t\t New Model\n",
      "\t   1328cc \t\t New Engine\n",
      "\t   Black \t\t New Color\n",
      "\n",
      "\n",
      "Third Car Details:-\n",
      "Name:      Toyota Corolla\n",
      "Model:     XLi Auto 2019 old Model\n",
      "Color:     White \t old Color\n",
      "Engine:    1300cc \t old Engine\n",
      "Fuel Type: Petrol\n",
      "\n",
      "\n",
      "\t   Altis Auto 1.6 2015 \t New Model\n",
      "\t   1600cc \t\t New Engine\n",
      "\t   Blue \t\t New Color\n",
      "\n",
      "\n",
      "Fourth Car Details:-\n",
      "Name:      FAW V2\n",
      "Model:     VCT-i 2016 \t old Model\n",
      "Color:     Silver \t old Color\n",
      "Engine:    1300cc \t old Engine\n",
      "Fuel Type: Petrol\n",
      "\n",
      "\n",
      "\t   VCT-i 2019 \t\t New Model\n",
      "\t   1300cc \t\t New Engine\n",
      "\t   Grey \t\t New Color\n",
      "\n",
      "\n",
      "Fifth Car Details:-\n",
      "Name:      Honda Civic Oriel 1.8\n",
      "Model:     VTEC CVT 2018 old Model\n",
      "Color:     Grey \t old Color\n",
      "Engine:    1800cc \t old Engine\n",
      "Fuel Type: Petrol\n",
      "\n",
      "\n",
      "\t   VTEC CVT 2019 \t New Model\n",
      "\t   1800cc \t\t New Engine\n",
      "\t   Red Vine \t\t New Color\n",
      "\n",
      "\n"
     ]
    }
   ],
   "source": [
    "class Car():\n",
    "    def __init__(self, name, model, color, engine, fueltype):\n",
    "        self.name = name\n",
    "        self.model = model\n",
    "        self.color = color\n",
    "        self.engine = engine\n",
    "        self.fueltype = fueltype\n",
    "        \n",
    "    def updateModel(self, newModel):\n",
    "        self.model = newModel\n",
    "        \n",
    "    def updateEngine(self, newEngine):\n",
    "        self.engine = newEngine\n",
    "        \n",
    "    def updateColor(self, newColor):\n",
    "        self.color = newColor\n",
    "        \n",
    "print(\"First Car Details:-\")\n",
    "car1 = Car('Audi', 'A6 2.0 TFSI', 'Black', '1984cc', 'Petrol')\n",
    "\n",
    "print(\"Name:     \", car1.name)\n",
    "print(\"Model:    \", car1.model, '\\t old Model')\n",
    "print(\"Color:    \", car1.color, '\\t old Color')\n",
    "print(\"Engine:   \", car1.engine,'\\t old Engine')\n",
    "print(\"Fuel Type:\", car1.fueltype)\n",
    "print(\"\\n\")\n",
    "car1.updateModel('A3 35 TFSI')\n",
    "print(\"\\t  \", car1.model, '\\t\\t New Model')\n",
    "\n",
    "car1.updateEngine('1395cc')\n",
    "print(\"\\t  \", car1.engine, '\\t\\t New Engine')\n",
    "\n",
    "car1.updateColor('Blue')\n",
    "print(\"\\t  \", car1.color, '\\t\\t New Color')\n",
    "print(\"\\n\")\n",
    "\n",
    "###########################################################################\n",
    "print(\"Second Car Details:-\")\n",
    "car2 = Car('Suzuki', 'Cultus VXR', 'Cerulean Blue', '998cc', 'Petrol')\n",
    "\n",
    "print(\"Name:     \", car2.name)\n",
    "print(\"Model:    \", car2.model, '\\t old Model')\n",
    "print(\"Color:    \", car2.color, 'old Color')\n",
    "print(\"Engine:   \", car2.engine,'\\t old Engine')\n",
    "print(\"Fuel Type:\", car2.fueltype)\n",
    "print(\"\\n\")\n",
    "car2.updateModel('Wagon R')\n",
    "print(\"\\t  \", car2.model, '\\t\\t New Model')\n",
    "\n",
    "car2.updateEngine('1328cc')\n",
    "print(\"\\t  \", car2.engine, '\\t\\t New Engine')\n",
    "\n",
    "car2.updateColor('Black')\n",
    "print(\"\\t  \", car2.color, '\\t\\t New Color')\n",
    "print(\"\\n\")\n",
    "\n",
    "\n",
    "###########################################################################\n",
    "\n",
    "print(\"Third Car Details:-\")\n",
    "car3 = Car('Toyota Corolla', 'XLi Auto 2019', 'White', '1300cc', 'Petrol')\n",
    "\n",
    "print(\"Name:     \", car3.name)\n",
    "print(\"Model:    \", car3.model, 'old Model')\n",
    "print(\"Color:    \", car3.color, '\\t old Color')\n",
    "print(\"Engine:   \", car3.engine,'\\t old Engine')\n",
    "print(\"Fuel Type:\", car3.fueltype)\n",
    "print(\"\\n\")\n",
    "car3.updateModel('Altis Auto 1.6 2015')\n",
    "print(\"\\t  \", car3.model, '\\t New Model')\n",
    "\n",
    "car3.updateEngine('1600cc')\n",
    "print(\"\\t  \", car3.engine, '\\t\\t New Engine')\n",
    "\n",
    "car3.updateColor('Blue')\n",
    "print(\"\\t  \", car3.color, '\\t\\t New Color')\n",
    "print(\"\\n\")\n",
    "\n",
    "\n",
    "###########################################################################\n",
    "\n",
    "print(\"Fourth Car Details:-\")\n",
    "car4 = Car('FAW V2', 'VCT-i 2016', 'Silver', '1300cc', 'Petrol')\n",
    "\n",
    "print(\"Name:     \", car4.name)\n",
    "print(\"Model:    \", car4.model, '\\t old Model')\n",
    "print(\"Color:    \", car4.color, '\\t old Color')\n",
    "print(\"Engine:   \", car4.engine,'\\t old Engine')\n",
    "print(\"Fuel Type:\", car4.fueltype)\n",
    "print(\"\\n\")\n",
    "car4.updateModel('VCT-i 2019')\n",
    "print(\"\\t  \", car4.model, '\\t\\t New Model')\n",
    "\n",
    "car4.updateEngine('1300cc')\n",
    "print(\"\\t  \", car4.engine, '\\t\\t New Engine')\n",
    "\n",
    "car4.updateColor('Grey')\n",
    "print(\"\\t  \", car4.color, '\\t\\t New Color')\n",
    "print(\"\\n\")\n",
    "\n",
    "\n",
    "###########################################################################\n",
    "\n",
    "print(\"Fifth Car Details:-\")\n",
    "car5 = Car('Honda Civic Oriel 1.8', 'VTEC CVT 2018', 'Grey', '1800cc', 'Petrol')\n",
    "\n",
    "print(\"Name:     \", car5.name)\n",
    "print(\"Model:    \", car5.model, 'old Model')\n",
    "print(\"Color:    \", car5.color, '\\t old Color')\n",
    "print(\"Engine:   \", car5.engine,'\\t old Engine')\n",
    "print(\"Fuel Type:\", car5.fueltype)\n",
    "print(\"\\n\")\n",
    "car5.updateModel('VTEC CVT 2019')\n",
    "print(\"\\t  \", car5.model, '\\t New Model')\n",
    "\n",
    "car5.updateEngine('1800cc')\n",
    "print(\"\\t  \", car5.engine, '\\t\\t New Engine')\n",
    "\n",
    "car5.updateColor('Red Vine')\n",
    "print(\"\\t  \", car5.color, '\\t\\t New Color')\n",
    "print(\"\\n\")\n"
   ]
  }
 ],
 "metadata": {
  "kernelspec": {
   "display_name": "Python 3",
   "language": "python",
   "name": "python3"
  },
  "language_info": {
   "codemirror_mode": {
    "name": "ipython",
    "version": 3
   },
   "file_extension": ".py",
   "mimetype": "text/x-python",
   "name": "python",
   "nbconvert_exporter": "python",
   "pygments_lexer": "ipython3",
   "version": "3.7.4"
  }
 },
 "nbformat": 4,
 "nbformat_minor": 2
}
