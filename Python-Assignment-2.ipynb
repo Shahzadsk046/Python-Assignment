{
 "cells": [
  {
   "cell_type": "code",
   "execution_count": 10,
   "metadata": {},
   "outputs": [
    {
     "name": "stdout",
     "output_type": "stream",
     "text": [
      "Enter 1st Subject Marks: 11\n",
      "Enter 2nd Subject Marks: 22\n",
      "Enter 3rd Subject Marks: 11\n",
      "Enter 4th Subject Marks: 22\n",
      "Enter 5th Subject Marks: 11\n",
      "Total marks are:  77\n",
      "You got Grade F\n"
     ]
    }
   ],
   "source": [
    "# 1. Write a program which takes 5 inputs from user for different subject’s marks, total it and generate mark sheet using grades ?\n",
    "sub1 = int(input (\"Enter 1st Subject Marks: \"))\n",
    "sub2 = int(input (\"Enter 2nd Subject Marks: \"))\n",
    "sub3 = int(input (\"Enter 3rd Subject Marks: \"))\n",
    "sub4 = int(input (\"Enter 4th Subject Marks: \"))\n",
    "sub5 = int(input (\"Enter 5th Subject Marks: \"))\n",
    "sum = sub1 + sub2 + sub3 + sub4 + sub5;\n",
    "print(\"Total marks are: \", sum);\n",
    "avg = sum/5;\n",
    "if(avg>=80 and avg <= 100):\n",
    "    print(\"You got Grade A+\");\n",
    "elif(avg>=70 and avg <= 79):\n",
    "    print(\"You got Grade A\");\n",
    "elif(avg>=60 and avg <= 69):\n",
    "    print(\"You got Grade B\");\n",
    "elif(avg>=50 and avg <= 59):\n",
    "    print(\"You got Grade C\");\n",
    "elif(avg>=40 and avg <= 49):\n",
    "    print(\"You got Grade D\");\n",
    "elif(avg < 40):\n",
    "    print(\"You got Grade F\");\n",
    "else :\n",
    "    print(\"Invalid Grade!\")"
   ]
  },
  {
   "cell_type": "code",
   "execution_count": 15,
   "metadata": {},
   "outputs": [
    {
     "name": "stdout",
     "output_type": "stream",
     "text": [
      "Enter a number to find even or odd: 6\n",
      "Even Number\n"
     ]
    }
   ],
   "source": [
    "# 2. Write a program which take input from user and identify that the given number is even or odd?\n",
    "a = int(input (\"Enter a number to find even or odd: \"))\n",
    "if(a%2==0):\n",
    "    print(\"Even Number\")\n",
    "else:\n",
    "    print(\"Odd Number\")"
   ]
  },
  {
   "cell_type": "code",
   "execution_count": 16,
   "metadata": {},
   "outputs": [
    {
     "name": "stdout",
     "output_type": "stream",
     "text": [
      "6\n"
     ]
    }
   ],
   "source": [
    "# 3. Write a program which print the length of the list?\n",
    "list = [54, 34, 3, 65, \"Name\", \"Address\"]\n",
    "print(len (list))"
   ]
  },
  {
   "cell_type": "code",
   "execution_count": 35,
   "metadata": {},
   "outputs": [
    {
     "name": "stdout",
     "output_type": "stream",
     "text": [
      "Sum of all numbers in given list:  250\n"
     ]
    }
   ],
   "source": [
    "# 4. Write a Python program to sum all the numeric items in a list?\n",
    "sum = 0\n",
    "list1 = [45, 34, 8, 76, 87]\n",
    "for num in range(0, len(list1)):\n",
    "    sum = sum + list1[num]\n",
    "print(\"Sum of all numbers in given list: \", sum)"
   ]
  },
  {
   "cell_type": "code",
   "execution_count": 36,
   "metadata": {},
   "outputs": [
    {
     "name": "stdout",
     "output_type": "stream",
     "text": [
      "The Largest number in list is:  68\n"
     ]
    }
   ],
   "source": [
    "# 5. Write a Python program to get the largest number from a numeric list.\n",
    "list2 = [66, 56, 68, 54, 34]\n",
    "print(\"The Largest number in list is: \", max(list2))"
   ]
  },
  {
   "cell_type": "code",
   "execution_count": 50,
   "metadata": {},
   "outputs": [
    {
     "name": "stdout",
     "output_type": "stream",
     "text": [
      "Elements of the list that are less than 5 is:  1\n",
      "Elements of the list that are less than 5 is:  1\n",
      "Elements of the list that are less than 5 is:  2\n",
      "Elements of the list that are less than 5 is:  3\n"
     ]
    }
   ],
   "source": [
    "\"\"\"6. Take a list, say for example this one:\n",
    "a = [1, 1, 2, 3, 5, 8, 13, 21, 34, 55, 89]\n",
    "and write a program that prints out all the elements of the list that are less than 5.\"\"\"\n",
    "\n",
    "a = [1, 1, 2, 3, 5, 8, 13, 21, 34, 55, 89]\n",
    "\n",
    "x = a\n",
    "for x in a:\n",
    "  \n",
    " if x < 5:\n",
    "        print(\"Elements of the list that are less than 5 is: \", x)\n"
   ]
  },
  {
   "cell_type": "code",
   "execution_count": null,
   "metadata": {},
   "outputs": [],
   "source": []
  },
  {
   "cell_type": "code",
   "execution_count": null,
   "metadata": {},
   "outputs": [],
   "source": []
  }
 ],
 "metadata": {
  "kernelspec": {
   "display_name": "Python 3",
   "language": "python",
   "name": "python3"
  },
  "language_info": {
   "codemirror_mode": {
    "name": "ipython",
    "version": 3
   },
   "file_extension": ".py",
   "mimetype": "text/x-python",
   "name": "python",
   "nbconvert_exporter": "python",
   "pygments_lexer": "ipython3",
   "version": "3.7.4"
  }
 },
 "nbformat": 4,
 "nbformat_minor": 2
}
