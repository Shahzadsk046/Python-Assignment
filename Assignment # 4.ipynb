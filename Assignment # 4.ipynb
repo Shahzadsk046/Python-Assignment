{
 "cells": [
  {
   "cell_type": "code",
   "execution_count": 1,
   "metadata": {},
   "outputs": [
    {
     "name": "stdout",
     "output_type": "stream",
     "text": [
      "first_name Shehzad\n",
      "first_name Zohaib\n",
      "first_name Moazzam\n",
      "first_name Sheeraz\n",
      "\n",
      "\n",
      "last_name Khan\n",
      "last_name Ahmed\n",
      "last_name Ali\n",
      "last_name Hussain\n",
      "\n",
      "\n",
      "age 22\n",
      "age 20\n",
      "age 19\n",
      "age 19\n",
      "\n",
      "\n",
      "city karachi\n",
      "city lahore\n",
      "city islamabad\n",
      "city faislabad\n",
      "\n",
      "\n",
      "{'first_name': ['Shehzad', 'Zohaib', 'Moazzam', 'Sheeraz'], 'last_name': ['Khan', 'Ahmed', 'Ali', 'Hussain'], 'age': [22, 20, 19, 19], 'city': ['karachi', 'lahore', 'islamabad', 'faislabad'], 'Qualification': ['Bachelor', 'Matric', 'Intermediate', 'Matric']}\n",
      "\n",
      "\n",
      "{'first_name': ['Shehzad', 'Zohaib', 'Moazzam', 'Sheeraz'], 'last_name': ['Khan', 'Ahmed', 'Ali', 'Hussain'], 'age': [22, 20, 19, 19], 'city': ['karachi', 'lahore', 'islamabad', 'faislabad']}\n"
     ]
    }
   ],
   "source": [
    "# 1. Use a dictionary to store information about a person you know. Store their first name, last name, age, and the city in which they live. You should have keys such as first_name, last_name, age, and city. Print each piece of information stored in your dictionary. Add a new key value pair about qualification then update the qualification value to high academic level then delete it.\n",
    "\n",
    "first_name = [\"Shehzad\",\"Zohaib\",\"Moazzam\",\"Sheeraz\"]\n",
    "last_name = [\"Khan\",\"Ahmed\",\"Ali\",\"Hussain\"]\n",
    "age = [22,20,19,19]\n",
    "city = [\"karachi\",'lahore','islamabad','faislabad']\n",
    "\n",
    "dic = {\"first_name\":first_name,\"last_name\":last_name,\"age\":age,\"city\":city}\n",
    "\n",
    "for key,values in dic.items():\n",
    "    for value in values:\n",
    "        print(key,value)\n",
    "    print(\"\\n\")    \n",
    "\n",
    "dic[\"Qualification\"] = [\"Bachelor\",\"Matric\",\"Intermediate\",\"Matric\"]\n",
    "print(dic)\n",
    "print(\"\\n\")\n",
    "del dic[\"Qualification\"]\n",
    "print(dic)"
   ]
  },
  {
   "cell_type": "code",
   "execution_count": 2,
   "metadata": {},
   "outputs": [
    {
     "name": "stdout",
     "output_type": "stream",
     "text": [
      "The citiy name is Karachi, Country = Pakistan\n",
      "The citiy name is Karachi, population = 15 million\n",
      "The citiy name is Karachi, facts = bussiness hub of pakistan\n",
      "\n",
      "\n",
      "The citiy name is New York, Country = United States\n",
      "The citiy name is New York, population = 8.623 million\n",
      "The citiy name is New York, facts = more then 800 launguages are spoken\n",
      "\n",
      "\n",
      "The citiy name is Riyadh, Country = Saudi Arabia\n",
      "The citiy name is Riyadh, population = 5.188 million\n",
      "The citiy name is Riyadh, facts = Riyadh mean garden or meadows\n",
      "\n",
      "\n"
     ]
    }
   ],
   "source": [
    "# 2. Make a dictionary called cities. Use the names of three cities as keys in your dictionary. Create a dictionary of information about each city and include the country that the city is in, its approximate population, and one fact about that city. The keys for each city’s dictionary should be something like country, population, and fact. Print the name of each city and all of the information you have stored about it.\n",
    "\n",
    "cities = {\n",
    "    \"Karachi\":{\"Country\":\"Pakistan\",\"population\":\"15 million\",\"facts\":\"bussiness hub of pakistan\"},\n",
    "    \"New York\":{\"Country\":\"United States\",\"population\":\"8.623 million\",\"facts\":'more then 800 launguages are spoken'}\n",
    "    ,\"Riyadh\":{\"Country\":\"Saudi Arabia\",\"population\":\"5.188 million\",\"facts\":\"Riyadh mean garden or meadows\"}}\n",
    "\n",
    "for city,info in cities.items():\n",
    "    for key,value in info.items():\n",
    "        print(f\"The citiy name is {city}, {key} = {value}\")\n",
    "    print(\"\\n\")    "
   ]
  },
  {
   "cell_type": "code",
   "execution_count": 4,
   "metadata": {},
   "outputs": [
    {
     "name": "stdout",
     "output_type": "stream",
     "text": [
      "Please Enter Your age : 12\n",
      "Your Ticket = $10 \n"
     ]
    }
   ],
   "source": [
    "# 3. A movie theater charges different ticket prices depending on a person’s age. If a person is under the age of 3, the ticket is free; if they are between 3 and 12, the ticket is $10; and if they are over age 12, the ticket is $15. Write a loop in which you ask users their age, and then tell them the cost of their movie ticket.\n",
    "\n",
    "age = int(input(\"Please Enter Your age : \"))\n",
    "if age <=3:\n",
    "    print(\"Your Tickert is free.\")\n",
    "    \n",
    "elif age >3 and age <=12:\n",
    "    print(\"Your Ticket = $10 \")\n",
    "\n",
    "elif age>12:\n",
    "    print(\"Your Ticket = $15 \")\n",
    "else:\n",
    "    print(\"Enter proper Age \")\n",
    "\n"
   ]
  },
  {
   "cell_type": "code",
   "execution_count": 22,
   "metadata": {},
   "outputs": [
    {
     "name": "stdout",
     "output_type": "stream",
     "text": [
      "Enter Your favorite book: alice in wonderland\n",
      "One of my favorite books is alice in wonderland\n"
     ]
    }
   ],
   "source": [
    "# 4. Write a function called favorite_book() that accepts one parameter, title. The function should print a message, such as One of my favorite books is Alice in Wonderland. Call the function, making sure to include a book title as an argument in the function call.\n",
    "\n",
    "def favorite_book(title):\n",
    "    print(f\"One of my favorite books is {title}\")\n",
    "\n",
    "x = input(\"Enter Your favorite book: \")\n",
    "favorite_book(x)\n",
    "    "
   ]
  },
  {
   "cell_type": "code",
   "execution_count": 5,
   "metadata": {},
   "outputs": [
    {
     "name": "stdout",
     "output_type": "stream",
     "text": [
      "Enter The guess Number : 2\n",
      "Think Greater Number\n",
      "Your Ramining Chances = 2 \n",
      "Enter The guess Number : 5\n",
      "Think Greater Number\n",
      "Your Ramining Chances = 1 \n",
      "Enter The guess Number : 9\n",
      "Think less Number\n",
      "Your Ramining Chances = 0 \n"
     ]
    }
   ],
   "source": [
    "# 5. Guess the number game\n",
    "#    Write a program which randomly generate a number between 1 to 30 and ask the user in input field to guess the correct number. Give three chances to user guess the number and also give hint to user if hidden number is greater or smaller than the number he given to input field.\n",
    "\n",
    "import random\n",
    "num = random.randint(1,10)\n",
    "\n",
    "for i in range(4,1,-1):\n",
    "    guess_num = int(input(\"Enter The guess Number : \"))\n",
    "    if guess_num == num:\n",
    "        print(\"Correct Answer\")\n",
    "    elif num<guess_num:\n",
    "        print(\"Think less Number\")\n",
    "    else:\n",
    "        print(\"Think Greater Number\")\n",
    "    print(f\"Your Ramining Chances = {i-2} \")    \n",
    "        \n",
    "\n",
    "    \n"
   ]
  },
  {
   "cell_type": "code",
   "execution_count": null,
   "metadata": {},
   "outputs": [],
   "source": []
  }
 ],
 "metadata": {
  "kernelspec": {
   "display_name": "Python 3",
   "language": "python",
   "name": "python3"
  },
  "language_info": {
   "codemirror_mode": {
    "name": "ipython",
    "version": 3
   },
   "file_extension": ".py",
   "mimetype": "text/x-python",
   "name": "python",
   "nbconvert_exporter": "python",
   "pygments_lexer": "ipython3",
   "version": "3.7.4"
  }
 },
 "nbformat": 4,
 "nbformat_minor": 2
}
